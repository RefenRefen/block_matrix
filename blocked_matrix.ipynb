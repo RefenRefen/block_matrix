{
  "nbformat": 4,
  "nbformat_minor": 0,
  "metadata": {
    "colab": {
      "provenance": [],
      "authorship_tag": "ABX9TyMbVQfACf5Az+CJeiRjAxPk",
      "include_colab_link": true
    },
    "kernelspec": {
      "name": "python3",
      "display_name": "Python 3"
    },
    "language_info": {
      "name": "python"
    }
  },
  "cells": [
    {
      "cell_type": "markdown",
      "metadata": {
        "id": "view-in-github",
        "colab_type": "text"
      },
      "source": [
        "<a href=\"https://colab.research.google.com/github/RefenRefen/block_matrix/blob/main/blocked_matrix.ipynb\" target=\"_parent\"><img src=\"https://colab.research.google.com/assets/colab-badge.svg\" alt=\"Open In Colab\"/></a>"
      ]
    },
    {
      "cell_type": "code",
      "execution_count": null,
      "metadata": {
        "id": "RSRAl_nAW6Iz"
      },
      "outputs": [],
      "source": [
        "import pandas as pd\n",
        "import numpy as np"
      ]
    },
    {
      "cell_type": "code",
      "source": [
        "random_matrix = np.zeros((10,10))\n",
        "random_matrix"
      ],
      "metadata": {
        "colab": {
          "base_uri": "https://localhost:8080/"
        },
        "id": "Nl2fLF8YXESi",
        "outputId": "2f4eed22-9e82-4aca-9e9c-b13200f4554e"
      },
      "execution_count": null,
      "outputs": [
        {
          "output_type": "execute_result",
          "data": {
            "text/plain": [
              "array([[0., 0., 0., 0., 0., 0., 0., 0., 0., 0.],\n",
              "       [0., 0., 0., 0., 0., 0., 0., 0., 0., 0.],\n",
              "       [0., 0., 0., 0., 0., 0., 0., 0., 0., 0.],\n",
              "       [0., 0., 0., 0., 0., 0., 0., 0., 0., 0.],\n",
              "       [0., 0., 0., 0., 0., 0., 0., 0., 0., 0.],\n",
              "       [0., 0., 0., 0., 0., 0., 0., 0., 0., 0.],\n",
              "       [0., 0., 0., 0., 0., 0., 0., 0., 0., 0.],\n",
              "       [0., 0., 0., 0., 0., 0., 0., 0., 0., 0.],\n",
              "       [0., 0., 0., 0., 0., 0., 0., 0., 0., 0.],\n",
              "       [0., 0., 0., 0., 0., 0., 0., 0., 0., 0.]])"
            ]
          },
          "metadata": {},
          "execution_count": 10
        }
      ]
    },
    {
      "cell_type": "code",
      "source": [
        "np.random.randint(10)"
      ],
      "metadata": {
        "colab": {
          "base_uri": "https://localhost:8080/"
        },
        "id": "K7rr7b7kXNe9",
        "outputId": "9cf1d9c4-0170-41ab-aa72-d2a04fb20315"
      },
      "execution_count": null,
      "outputs": [
        {
          "output_type": "execute_result",
          "data": {
            "text/plain": [
              "9"
            ]
          },
          "metadata": {},
          "execution_count": 8
        }
      ]
    },
    {
      "cell_type": "code",
      "source": [
        "class DiagonalBlockedMatrix:\n",
        "    def __init__(self, n, d):\n",
        "        self.n = n\n",
        "        self.d = d\n",
        "        self.matrix_dimension = self.n * self.d\n",
        "        self.data = []\n",
        "    def dimensions(self):\n",
        "        print(self.n*self.d)\n",
        "\n",
        "    def random_matrix(self):\n",
        "        rndm_matrix = np.zeros((self.matrix_dimension,self.matrix_dimension))\n",
        "        for i in range(self.matrix_dimension):\n",
        "            for j in range(self.matrix_dimension):\n",
        "                # if i*j // self.matrix_dimesion % 10 == 0:\n",
        "                if np.abs(i - j) % self.d == 0:\n",
        "                    rndm_matrix[i,j] = np.random.randint(1,10)\n",
        "        return rndm_matrix\n",
        "    def transform_to_list(self, matrix):\n",
        "        for i in range(self.matrix_dimension):\n",
        "            for j in range(self.matrix_dimension):\n",
        "                # if i*j // self.matrix_dimesion % 10 == 0:\n",
        "                if np.abs(i - j) % self.d == 0:\n",
        "                    self.data.append(matrix[i,j])\n",
        "\n"
      ],
      "metadata": {
        "id": "daYfjcQVXPZz"
      },
      "execution_count": null,
      "outputs": []
    },
    {
      "cell_type": "code",
      "source": [
        "dbm = DiagonalBlockedMatrix(2,4).random_matrix()"
      ],
      "metadata": {
        "id": "7YtbZocZZ_RY"
      },
      "execution_count": null,
      "outputs": []
    },
    {
      "cell_type": "code",
      "source": [
        "dbm"
      ],
      "metadata": {
        "colab": {
          "base_uri": "https://localhost:8080/"
        },
        "id": "uQL04XjraG-i",
        "outputId": "56154ee7-321b-4e65-ec89-d99d19fb5024"
      },
      "execution_count": null,
      "outputs": [
        {
          "output_type": "execute_result",
          "data": {
            "text/plain": [
              "array([[9., 0., 0., 0., 9., 0., 0., 0.],\n",
              "       [0., 4., 0., 0., 0., 1., 0., 0.],\n",
              "       [0., 0., 9., 0., 0., 0., 7., 0.],\n",
              "       [0., 0., 0., 2., 0., 0., 0., 9.],\n",
              "       [8., 0., 0., 0., 1., 0., 0., 0.],\n",
              "       [0., 9., 0., 0., 0., 7., 0., 0.],\n",
              "       [0., 0., 8., 0., 0., 0., 5., 0.],\n",
              "       [0., 0., 0., 4., 0., 0., 0., 9.]])"
            ]
          },
          "metadata": {},
          "execution_count": 53
        }
      ]
    },
    {
      "cell_type": "code",
      "source": [],
      "metadata": {
        "id": "wsFfKLsMagNx"
      },
      "execution_count": null,
      "outputs": []
    }
  ]
}